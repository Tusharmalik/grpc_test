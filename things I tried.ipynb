{
 "cells": [
  {
   "cell_type": "code",
   "execution_count": null,
   "metadata": {},
   "outputs": [],
   "source": [
    "server_template = \"\"\"\n",
    "from concurrent import futures\n",
    "\n",
    "import grpc\n",
    "\n",
    "import {{ filename }}_pb2\n",
    "import {{ filename }}_pb2_grpc\n",
    "\n",
    "class Greeter({{ filename }}_pb2_grpc.GreeterServicer):\n",
    "\n",
    "    def SayHello(self, request, context):\n",
    "        return helloworld_pb2.HelloReply(message='Hello, %s!' % request.name)\n",
    "\n",
    "    def SayHelloAgain(self, request, context):\n",
    "        return helloworld_pb2.HelloReply(message='Hello again, %s!' % request.name)\n",
    "\"\"\""
   ]
  },
  {
   "cell_type": "code",
   "execution_count": 37,
   "metadata": {},
   "outputs": [
    {
     "data": {
      "text/plain": [
       "['{\"arg1\" : \"Geeks\"', ' \"arg2\" : \"for\"', ' \"arg3\" : \"Geeks\"}']"
      ]
     },
     "execution_count": 37,
     "metadata": {},
     "output_type": "execute_result"
    }
   ],
   "source": [
    "a = '{\"arg1\" : \"Geeks\", \"arg2\" : \"for\", \"arg3\" : \"Geeks\"}'\n",
    "a.split(\",\")"
   ]
  },
  {
   "cell_type": "code",
   "execution_count": 1,
   "metadata": {},
   "outputs": [],
   "source": [
    "import helloworld_pb2_grpc\n",
    "import helloworld_pb2"
   ]
  },
  {
   "cell_type": "code",
   "execution_count": 2,
   "metadata": {},
   "outputs": [
    {
     "data": {
      "text/plain": [
       "['Greeter',\n",
       " 'GreeterServicer',\n",
       " 'GreeterStub',\n",
       " '__builtins__',\n",
       " '__cached__',\n",
       " '__doc__',\n",
       " '__file__',\n",
       " '__loader__',\n",
       " '__name__',\n",
       " '__package__',\n",
       " '__spec__',\n",
       " 'add_GreeterServicer_to_server',\n",
       " 'grpc',\n",
       " 'helloworld__pb2']"
      ]
     },
     "execution_count": 2,
     "metadata": {},
     "output_type": "execute_result"
    }
   ],
   "source": [
    "dir(helloworld_pb2_grpc)"
   ]
  },
  {
   "cell_type": "code",
   "execution_count": 1,
   "metadata": {},
   "outputs": [],
   "source": [
    "import os\n",
    "import sys\n",
    "import glob\n",
    "import subprocess"
   ]
  },
  {
   "cell_type": "code",
   "execution_count": 31,
   "metadata": {},
   "outputs": [
    {
     "name": "stdout",
     "output_type": "stream",
     "text": [
      "0\n"
     ]
    }
   ],
   "source": [
    "def readArg():\n",
    "    if len(sys.argv) == 2:\n",
    "        proto_file_path = str(sys.argv)[1]\n",
    "        if os.path.isfile(proto_file_path):\n",
    "            return proto_file_path\n",
    "        else:\n",
    "            raise FileNotFoundError\n",
    "    else:\n",
    "        print(\"There must be two arguments passed: \\\n",
    "        1. Name of the script file, \\\n",
    "        2. Name of the proto file\")\n",
    "        raise ValueError(\"arg not found\")\n",
    "    \n",
    "    \n",
    "def createTemplateFiles(proto_file_path):\n",
    "    command_status = os.system(\n",
    "        f\"python -m grpc_tools.protoc -I. --python_out=. --grpc_python_out=. {proto_file_path}\"\n",
    "    )\n",
    "    if(command_status!=0):\n",
    "        raise Exception(f\"{proto_file_path} syntax not correct\")\n",
    "    \n",
    "\n",
    "\n",
    "def createServerTemplate():\n",
    "    server_template = \"\"\"\n",
    "    from concurrent import futures\n",
    "\n",
    "    import grpc\n",
    "\n",
    "    import {{ filename }}_pb2\n",
    "    import {{ filename }}_pb2_grpc\n",
    "\n",
    "    class Greeter({{ filename }}_pb2_grpc.GreeterServicer):\n",
    "\n",
    "        def SayHello(self, request, context):\n",
    "            return helloworld_pb2.HelloReply(message='Hello, %s!' % request.name)\n",
    "\n",
    "        def SayHelloAgain(self, request, context):\n",
    "            return helloworld_pb2.HelloReply(message='Hello again, %s!' % request.name)\n",
    "    \"\"\"\n",
    "\n",
    "\n",
    "def createClientTemplate():\n",
    "    pass\n",
    "\n",
    "\n",
    "if __name__ == \"__main__\":\n",
    "    proto_file_path = readArg()\n",
    "    createTemplateFiles(proto_file_path)\n",
    "    proto_file_name = proto_file_path.strip().split()[-1]\n",
    "    print(proto_file_name)\n",
    "    "
   ]
  },
  {
   "cell_type": "code",
   "execution_count": 30,
   "metadata": {},
   "outputs": [],
   "source": [
    "!python -m grpc_tools.protoc -I. --python_out=. --grpc_python_out=. helloworld.proto"
   ]
  },
  {
   "cell_type": "code",
   "execution_count": null,
   "metadata": {},
   "outputs": [],
   "source": []
  },
  {
   "cell_type": "code",
   "execution_count": 25,
   "metadata": {},
   "outputs": [
    {
     "ename": "AttributeError",
     "evalue": "'int' object has no attribute 'read'",
     "output_type": "error",
     "traceback": [
      "\u001b[0;31m-----\u001b[0m",
      "\u001b[0;31mAttributeError\u001b[0mTraceback (most recent call last)",
      "\u001b[0;32m<ipython-input-25-dee2dccc72f1>\u001b[0m in \u001b[0;36m<module>\u001b[0;34m\u001b[0m\n\u001b[1;32m      1\u001b[0m \u001b[0;32mimport\u001b[0m \u001b[0msubprocess\u001b[0m\u001b[0;34m\u001b[0m\u001b[0;34m\u001b[0m\u001b[0m\n\u001b[0;32m----> 2\u001b[0;31m \u001b[0msubprocess\u001b[0m\u001b[0;34m.\u001b[0m\u001b[0mcall\u001b[0m\u001b[0;34m(\u001b[0m\u001b[0;34m[\u001b[0m\u001b[0;34m\"ls\"\u001b[0m\u001b[0;34m,\u001b[0m \u001b[0;34m\"-l\"\u001b[0m\u001b[0;34m]\u001b[0m\u001b[0;34m)\u001b[0m\u001b[0;34m.\u001b[0m\u001b[0mread\u001b[0m\u001b[0;34m(\u001b[0m\u001b[0;34m)\u001b[0m\u001b[0;34m\u001b[0m\u001b[0;34m\u001b[0m\u001b[0m\n\u001b[0m",
      "\u001b[0;31mAttributeError\u001b[0m: 'int' object has no attribute 'read'"
     ]
    }
   ],
   "source": [
    "import subprocess\n",
    "subprocess.call([\"ls\", \"-l\"]).read()"
   ]
  },
  {
   "cell_type": "code",
   "execution_count": 13,
   "metadata": {},
   "outputs": [],
   "source": [
    "from pprint import pprint"
   ]
  },
  {
   "cell_type": "code",
   "execution_count": null,
   "metadata": {},
   "outputs": [],
   "source": [
    "a = [5,5,3,5,6,3,7,9,2,1,3]"
   ]
  },
  {
   "cell_type": "code",
   "execution_count": null,
   "metadata": {},
   "outputs": [],
   "source": []
  },
  {
   "cell_type": "code",
   "execution_count": 6,
   "metadata": {},
   "outputs": [
    {
     "data": {
      "text/plain": [
       "{[Group:({{{\"package\" -} identifier [. identifier]...} Suppress:(\";\")})] [Group:({{{{{{{{{{\"message\" -} identifier} Suppress:(\"{\")} Forward: Forward: Group:([Group:({{{{{{{{{{{{{\"required\" | \"optional\"} | \"repeated\"} -} {double | float | int32 | int64 | uint32 | uint64 | sint32 | sint64 | fixed32 | fixed64 | sfixed32 | sfixed64 | bool | string | bytes | identifier}} identifier} Suppress:(\"=\")} Re:('[+-]?\\\\d+')} [{{Suppress:(\"[\") Group:({{identifier Suppress:(\"=\")} {{{Re:('[+-]?\\\\d+') | \"true\"} | \"false\"} | identifier}})} Suppress:(\"]\")}]...} Suppress:(\";\")} | {{{{{\"enum\" -} identifier} Suppress:(\"{\")} Dict:([Group:({{{identifier Suppress:(\"=\")} Re:('[+-]?\\\\d+')} Suppress:(\";\")})]...)} Suppress:(\"}\")}} | {{{{{\"message\" -} identifier} Suppress:(\"{\")} : ...} Suppress:(\"}\")}} | {{{{{\"extensions\" -} Re:('[+-]?\\\\d+')} \"to\"} Re:('[+-]?\\\\d+')} Suppress:(\";\")}} | {{{{{\"extend\" -} identifier} Suppress:(\"{\")} : ...} Suppress:(\"}\")}})]...)} Suppress:(\"}\")} | {{{{{\"extend\" -} identifier} Suppress:(\"{\")} : ...} Suppress:(\"}\")}} | {{{{{\"enum\" -} identifier} Suppress:(\"{\")} Dict:([Group:({{{identifier Suppress:(\"=\")} Re:('[+-]?\\\\d+')} Suppress:(\";\")})]...)} Suppress:(\"}\")}} | {{{{{\"service\" -} identifier} Suppress:(\"{\")} [Group:({{{{{{{{{\"rpc\" -} identifier} Suppress:(\"(\")} [identifier]} Suppress:(\")\")} \"returns\"} Suppress:(\"(\")} [identifier]} Suppress:(\")\")})]...} Suppress:(\"}\")}} | {{{\"import\" -} quotedString using single or double quotes} Suppress:(\";\")}} | {{{{{\"option\" -} identifier} Suppress:(\"=\")} quotedString using single or double quotes} Suppress:(\";\")}})]...}"
      ]
     },
     "execution_count": 6,
     "metadata": {},
     "output_type": "execute_result"
    }
   ],
   "source": [
    "from pyparsing import (Word, alphas, alphanums, Regex, Suppress, Forward,\n",
    "    Group, oneOf, ZeroOrMore, Optional, delimitedList, Keyword,\n",
    "    restOfLine, quotedString, Dict)\n",
    "\n",
    "ident = Word(alphas+\"_\",alphanums+\"_\").setName(\"identifier\")\n",
    "integer = Regex(r\"[+-]?\\d+\")\n",
    "\n",
    "LBRACE,RBRACE,LBRACK,RBRACK,LPAR,RPAR,EQ,SEMI = map(Suppress,\"{}[]()=;\")\n",
    "\n",
    "kwds = \"\"\"message required optional repeated enum extensions extends extend \n",
    "          to package service rpc returns true false option import\"\"\"\n",
    "for kw in kwds.split():\n",
    "    exec(\"%s_ = Keyword('%s')\" % (kw.upper(), kw))\n",
    "\n",
    "messageBody = Forward()\n",
    "\n",
    "messageDefn = MESSAGE_ - ident(\"messageId\") + LBRACE + messageBody(\"body\") + RBRACE\n",
    "\n",
    "typespec = oneOf(\"\"\"double float int32 int64 uint32 uint64 sint32 sint64 \n",
    "                    fixed32 fixed64 sfixed32 sfixed64 bool string bytes\"\"\") | ident\n",
    "rvalue = integer | TRUE_ | FALSE_ | ident\n",
    "fieldDirective = LBRACK + Group(ident + EQ + rvalue) + RBRACK\n",
    "fieldDefn = (( REQUIRED_ | OPTIONAL_ | REPEATED_ )(\"fieldQualifier\") - \n",
    "              typespec(\"typespec\") + ident(\"ident\") + EQ + integer(\"fieldint\") + ZeroOrMore(fieldDirective) + SEMI)\n",
    "\n",
    "# enumDefn ::= 'enum' ident '{' { ident '=' integer ';' }* '}'\n",
    "enumDefn = ENUM_(\"typespec\") - ident('name') + LBRACE + Dict( ZeroOrMore( Group(ident + EQ + integer + SEMI) ))('values') + RBRACE\n",
    "\n",
    "# extensionsDefn ::= 'extensions' integer 'to' integer ';'\n",
    "extensionsDefn = EXTENSIONS_ - integer + TO_ + integer + SEMI\n",
    "\n",
    "# messageExtension ::= 'extend' ident '{' messageBody '}'\n",
    "messageExtension = EXTEND_ - ident + LBRACE + messageBody + RBRACE\n",
    "\n",
    "# messageBody ::= { fieldDefn | enumDefn | messageDefn | extensionsDefn | messageExtension }*\n",
    "messageBody << Group(ZeroOrMore( Group(fieldDefn | enumDefn | messageDefn | extensionsDefn | messageExtension) ))\n",
    "\n",
    "# methodDefn ::= 'rpc' ident '(' [ ident ] ')' 'returns' '(' [ ident ] ')' ';'\n",
    "methodDefn = (RPC_ - ident(\"methodName\") + \n",
    "              LPAR + Optional(ident(\"methodParam\")) + RPAR + \n",
    "              RETURNS_ + LPAR + Optional(ident(\"methodReturn\")) + RPAR)\n",
    "\n",
    "# serviceDefn ::= 'service' ident '{' methodDefn* '}'\n",
    "serviceDefn = SERVICE_ - ident(\"serviceName\") + LBRACE + ZeroOrMore(Group(methodDefn)) + RBRACE\n",
    "\n",
    "# packageDirective ::= 'package' ident [ '.' ident]* ';'\n",
    "packageDirective = Group(PACKAGE_ - delimitedList(ident, '.', combine=True) + SEMI)\n",
    "\n",
    "comment = '//' + restOfLine\n",
    "\n",
    "importDirective = IMPORT_ - quotedString(\"importFileSpec\") + SEMI\n",
    "\n",
    "optionDirective = OPTION_ - ident(\"optionName\") + EQ + quotedString(\"optionValue\") + SEMI\n",
    "\n",
    "topLevelStatement = Group(messageDefn | messageExtension | enumDefn | serviceDefn | importDirective | optionDirective)\n",
    "\n",
    "parser = Optional(packageDirective) + ZeroOrMore(topLevelStatement)\n",
    "\n",
    "parser.ignore(comment)"
   ]
  },
  {
   "cell_type": "code",
   "execution_count": 7,
   "metadata": {},
   "outputs": [],
   "source": [
    "test1 = \"\"\"message Person { \n",
    "  required int32 id = 1; \n",
    "  required string name = 2; \n",
    "  optional string email = 3; \n",
    "}\"\"\"\n",
    "\n",
    "test2 = \"\"\"package tutorial;\n",
    "\n",
    "message Person {\n",
    "  required string name = 1;\n",
    "  required int32 id = 2;\n",
    "  optional string email = 3;\n",
    "\n",
    "  enum PhoneType {\n",
    "    MOBILE = 0;\n",
    "    HOME = 1;\n",
    "    WORK = 2;\n",
    "  }\n",
    "\n",
    "  message PhoneNumber {\n",
    "    required string number = 1;\n",
    "    optional PhoneType type = 2 [default = HOME];\n",
    "  }\n",
    "\n",
    "  repeated PhoneNumber phone = 4;\n",
    "}\n",
    "\n",
    "message AddressBook {\n",
    "  repeated Person person = 1;\n",
    "}\"\"\""
   ]
  },
  {
   "cell_type": "code",
   "execution_count": 26,
   "metadata": {},
   "outputs": [
    {
     "name": "stdout",
     "output_type": "stream",
     "text": [
      "\n",
      "message Person { \n",
      "  required int32 id = 1; \n",
      "  required string name = 2; \n",
      "  optional string email = 3; \n",
      "}\n",
      "[['message', 'Person', [['required', 'int32', 'id', '1'], ['required', 'string', 'name', '2'], ['optional', 'string', 'email', '3']]]]\n",
      "[0]:\n",
      "  ['message', 'Person', [['required', 'int32', 'id', '1'], ['required', 'string', 'name', '2'], ['optional', 'string', 'email', '3']]]\n",
      "  - body: [['required', 'int32', 'id', '1'], ['required', 'string', 'name', '2'], ['optional', 'string', 'email', '3']]\n",
      "    [0]:\n",
      "      ['required', 'int32', 'id', '1']\n",
      "      - fieldQualifier: 'required'\n",
      "      - fieldint: '1'\n",
      "      - ident: 'id'\n",
      "      - typespec: 'int32'\n",
      "    [1]:\n",
      "      ['required', 'string', 'name', '2']\n",
      "      - fieldQualifier: 'required'\n",
      "      - fieldint: '2'\n",
      "      - ident: 'name'\n",
      "      - typespec: 'string'\n",
      "    [2]:\n",
      "      ['optional', 'string', 'email', '3']\n",
      "      - fieldQualifier: 'optional'\n",
      "      - fieldint: '3'\n",
      "      - ident: 'email'\n",
      "      - typespec: 'string'\n",
      "  - messageId: 'Person'\n"
     ]
    }
   ],
   "source": [
    "out = parser.runTests([test1])"
   ]
  },
  {
   "cell_type": "code",
   "execution_count": 27,
   "metadata": {},
   "outputs": [
    {
     "name": "stdout",
     "output_type": "stream",
     "text": [
      "(True,\n",
      " [('message Person { \\n'\n",
      "   '  required int32 id = 1; \\n'\n",
      "   '  required string name = 2; \\n'\n",
      "   '  optional string email = 3; \\n'\n",
      "   '}',\n",
      "   ([(['message', 'Person', ([(['required', 'int32', 'id', '1'], {'fieldQualifier': ['required'], 'typespec': ['int32'], 'ident': ['id'], 'fieldint': ['1']}), (['required', 'string', 'name', '2'], {'fieldQualifier': ['required'], 'typespec': ['string'], 'ident': ['name'], 'fieldint': ['2']}), (['optional', 'string', 'email', '3'], {'fieldQualifier': ['optional'], 'typespec': ['string'], 'ident': ['email'], 'fieldint': ['3']})], {})], {'messageId': ['Person'], 'body': [([(['required', 'int32', 'id', '1'], {'fieldQualifier': ['required'], 'typespec': ['int32'], 'ident': ['id'], 'fieldint': ['1']}), (['required', 'string', 'name', '2'], {'fieldQualifier': ['required'], 'typespec': ['string'], 'ident': ['name'], 'fieldint': ['2']}), (['optional', 'string', 'email', '3'], {'fieldQualifier': ['optional'], 'typespec': ['string'], 'ident': ['email'], 'fieldint': ['3']})], {})]})], {}))])\n"
     ]
    }
   ],
   "source": [
    "pprint(out)"
   ]
  },
  {
   "cell_type": "code",
   "execution_count": 28,
   "metadata": {},
   "outputs": [
    {
     "data": {
      "text/plain": [
       "(['message', 'Person', ([(['required', 'int32', 'id', '1'], {'fieldQualifier': ['required'], 'typespec': ['int32'], 'ident': ['id'], 'fieldint': ['1']}), (['required', 'string', 'name', '2'], {'fieldQualifier': ['required'], 'typespec': ['string'], 'ident': ['name'], 'fieldint': ['2']}), (['optional', 'string', 'email', '3'], {'fieldQualifier': ['optional'], 'typespec': ['string'], 'ident': ['email'], 'fieldint': ['3']})], {})], {'messageId': ['Person'], 'body': [([(['required', 'int32', 'id', '1'], {'fieldQualifier': ['required'], 'typespec': ['int32'], 'ident': ['id'], 'fieldint': ['1']}), (['required', 'string', 'name', '2'], {'fieldQualifier': ['required'], 'typespec': ['string'], 'ident': ['name'], 'fieldint': ['2']}), (['optional', 'string', 'email', '3'], {'fieldQualifier': ['optional'], 'typespec': ['string'], 'ident': ['email'], 'fieldint': ['3']})], {})]})"
      ]
     },
     "execution_count": 28,
     "metadata": {},
     "output_type": "execute_result"
    }
   ],
   "source": [
    "out[1][0][1][0]"
   ]
  },
  {
   "cell_type": "code",
   "execution_count": null,
   "metadata": {},
   "outputs": [],
   "source": []
  },
  {
   "cell_type": "code",
   "execution_count": null,
   "metadata": {},
   "outputs": [],
   "source": []
  },
  {
   "cell_type": "code",
   "execution_count": 25,
   "metadata": {},
   "outputs": [
    {
     "name": "stdout",
     "output_type": "stream",
     "text": [
      "\n",
      "package tutorial;\n",
      "\n",
      "message Person {\n",
      "  required string name = 1;\n",
      "  required int32 id = 2;\n",
      "  optional string email = 3;\n",
      "\n",
      "  enum PhoneType {\n",
      "    MOBILE = 0;\n",
      "    HOME = 1;\n",
      "    WORK = 2;\n",
      "  }\n",
      "\n",
      "  message PhoneNumber {\n",
      "    required string number = 1;\n",
      "    optional PhoneType type = 2 [default = HOME];\n",
      "  }\n",
      "\n",
      "  repeated PhoneNumber phone = 4;\n",
      "}\n",
      "\n",
      "message AddressBook {\n",
      "  repeated Person person = 1;\n",
      "}\n",
      "[['package', 'tutorial'], ['message', 'Person', [['required', 'string', 'name', '1'], ['required', 'int32', 'id', '2'], ['optional', 'string', 'email', '3'], ['enum', 'PhoneType', [['MOBILE', '0'], ['HOME', '1'], ['WORK', '2']]], ['message', 'PhoneNumber', [['required', 'string', 'number', '1'], ['optional', 'PhoneType', 'type', '2', ['default', 'HOME']]]], ['repeated', 'PhoneNumber', 'phone', '4']]], ['message', 'AddressBook', [['repeated', 'Person', 'person', '1']]]]\n",
      "[0]:\n",
      "  ['package', 'tutorial']\n",
      "[1]:\n",
      "  ['message', 'Person', [['required', 'string', 'name', '1'], ['required', 'int32', 'id', '2'], ['optional', 'string', 'email', '3'], ['enum', 'PhoneType', [['MOBILE', '0'], ['HOME', '1'], ['WORK', '2']]], ['message', 'PhoneNumber', [['required', 'string', 'number', '1'], ['optional', 'PhoneType', 'type', '2', ['default', 'HOME']]]], ['repeated', 'PhoneNumber', 'phone', '4']]]\n",
      "  - body: [['required', 'string', 'name', '1'], ['required', 'int32', 'id', '2'], ['optional', 'string', 'email', '3'], ['enum', 'PhoneType', [['MOBILE', '0'], ['HOME', '1'], ['WORK', '2']]], ['message', 'PhoneNumber', [['required', 'string', 'number', '1'], ['optional', 'PhoneType', 'type', '2', ['default', 'HOME']]]], ['repeated', 'PhoneNumber', 'phone', '4']]\n",
      "    [0]:\n",
      "      ['required', 'string', 'name', '1']\n",
      "      - fieldQualifier: 'required'\n",
      "      - fieldint: '1'\n",
      "      - ident: 'name'\n",
      "      - typespec: 'string'\n",
      "    [1]:\n",
      "      ['required', 'int32', 'id', '2']\n",
      "      - fieldQualifier: 'required'\n",
      "      - fieldint: '2'\n",
      "      - ident: 'id'\n",
      "      - typespec: 'int32'\n",
      "    [2]:\n",
      "      ['optional', 'string', 'email', '3']\n",
      "      - fieldQualifier: 'optional'\n",
      "      - fieldint: '3'\n",
      "      - ident: 'email'\n",
      "      - typespec: 'string'\n",
      "    [3]:\n",
      "      ['enum', 'PhoneType', [['MOBILE', '0'], ['HOME', '1'], ['WORK', '2']]]\n",
      "      - name: 'PhoneType'\n",
      "      - typespec: 'enum'\n",
      "      - values: [['MOBILE', '0'], ['HOME', '1'], ['WORK', '2']]\n",
      "        - HOME: '1'\n",
      "        - MOBILE: '0'\n",
      "        - WORK: '2'\n",
      "    [4]:\n",
      "      ['message', 'PhoneNumber', [['required', 'string', 'number', '1'], ['optional', 'PhoneType', 'type', '2', ['default', 'HOME']]]]\n",
      "      - body: [['required', 'string', 'number', '1'], ['optional', 'PhoneType', 'type', '2', ['default', 'HOME']]]\n",
      "        [0]:\n",
      "          ['required', 'string', 'number', '1']\n",
      "          - fieldQualifier: 'required'\n",
      "          - fieldint: '1'\n",
      "          - ident: 'number'\n",
      "          - typespec: 'string'\n",
      "        [1]:\n",
      "          ['optional', 'PhoneType', 'type', '2', ['default', 'HOME']]\n",
      "          - fieldQualifier: 'optional'\n",
      "          - fieldint: '2'\n",
      "          - ident: 'type'\n",
      "          - typespec: 'PhoneType'\n",
      "      - messageId: 'PhoneNumber'\n",
      "    [5]:\n",
      "      ['repeated', 'PhoneNumber', 'phone', '4']\n",
      "      - fieldQualifier: 'repeated'\n",
      "      - fieldint: '4'\n",
      "      - ident: 'phone'\n",
      "      - typespec: 'PhoneNumber'\n",
      "  - messageId: 'Person'\n",
      "[2]:\n",
      "  ['message', 'AddressBook', [['repeated', 'Person', 'person', '1']]]\n",
      "  - body: [['repeated', 'Person', 'person', '1']]\n",
      "    [0]:\n",
      "      ['repeated', 'Person', 'person', '1']\n",
      "      - fieldQualifier: 'repeated'\n",
      "      - fieldint: '1'\n",
      "      - ident: 'person'\n",
      "      - typespec: 'Person'\n",
      "  - messageId: 'AddressBook'\n"
     ]
    }
   ],
   "source": [
    "out2 = parser.runTests([test2])"
   ]
  },
  {
   "cell_type": "code",
   "execution_count": 29,
   "metadata": {},
   "outputs": [
    {
     "name": "stdout",
     "output_type": "stream",
     "text": [
      "(True,\n",
      " [('package tutorial;\\n'\n",
      "   '\\n'\n",
      "   'message Person {\\n'\n",
      "   '  required string name = 1;\\n'\n",
      "   '  required int32 id = 2;\\n'\n",
      "   '  optional string email = 3;\\n'\n",
      "   '\\n'\n",
      "   '  enum PhoneType {\\n'\n",
      "   '    MOBILE = 0;\\n'\n",
      "   '    HOME = 1;\\n'\n",
      "   '    WORK = 2;\\n'\n",
      "   '  }\\n'\n",
      "   '\\n'\n",
      "   '  message PhoneNumber {\\n'\n",
      "   '    required string number = 1;\\n'\n",
      "   '    optional PhoneType type = 2 [default = HOME];\\n'\n",
      "   '  }\\n'\n",
      "   '\\n'\n",
      "   '  repeated PhoneNumber phone = 4;\\n'\n",
      "   '}\\n'\n",
      "   '\\n'\n",
      "   'message AddressBook {\\n'\n",
      "   '  repeated Person person = 1;\\n'\n",
      "   '}',\n",
      "   ([(['package', 'tutorial'], {}), (['message', 'Person', ([(['required', 'string', 'name', '1'], {'fieldQualifier': ['required'], 'typespec': ['string'], 'ident': ['name'], 'fieldint': ['1']}), (['required', 'int32', 'id', '2'], {'fieldQualifier': ['required'], 'typespec': ['int32'], 'ident': ['id'], 'fieldint': ['2']}), (['optional', 'string', 'email', '3'], {'fieldQualifier': ['optional'], 'typespec': ['string'], 'ident': ['email'], 'fieldint': ['3']}), (['enum', 'PhoneType', ([(['MOBILE', '0'], {}), (['HOME', '1'], {}), (['WORK', '2'], {})], {'MOBILE': ['0'], 'HOME': ['1'], 'WORK': ['2']})], {'typespec': ['enum'], 'name': ['PhoneType'], 'values': [([(['MOBILE', '0'], {}), (['HOME', '1'], {}), (['WORK', '2'], {})], {'MOBILE': ['0'], 'HOME': ['1'], 'WORK': ['2']})]}), (['message', 'PhoneNumber', ([(['required', 'string', 'number', '1'], {'fieldQualifier': ['required'], 'typespec': ['string'], 'ident': ['number'], 'fieldint': ['1']}), (['optional', 'PhoneType', 'type', '2', (['default', 'HOME'], {})], {'fieldQualifier': ['optional'], 'typespec': ['PhoneType'], 'ident': ['type'], 'fieldint': ['2']})], {})], {'messageId': ['PhoneNumber'], 'body': [([(['required', 'string', 'number', '1'], {'fieldQualifier': ['required'], 'typespec': ['string'], 'ident': ['number'], 'fieldint': ['1']}), (['optional', 'PhoneType', 'type', '2', (['default', 'HOME'], {})], {'fieldQualifier': ['optional'], 'typespec': ['PhoneType'], 'ident': ['type'], 'fieldint': ['2']})], {})]}), (['repeated', 'PhoneNumber', 'phone', '4'], {'fieldQualifier': ['repeated'], 'typespec': ['PhoneNumber'], 'ident': ['phone'], 'fieldint': ['4']})], {})], {'messageId': ['Person'], 'body': [([(['required', 'string', 'name', '1'], {'fieldQualifier': ['required'], 'typespec': ['string'], 'ident': ['name'], 'fieldint': ['1']}), (['required', 'int32', 'id', '2'], {'fieldQualifier': ['required'], 'typespec': ['int32'], 'ident': ['id'], 'fieldint': ['2']}), (['optional', 'string', 'email', '3'], {'fieldQualifier': ['optional'], 'typespec': ['string'], 'ident': ['email'], 'fieldint': ['3']}), (['enum', 'PhoneType', ([(['MOBILE', '0'], {}), (['HOME', '1'], {}), (['WORK', '2'], {})], {'MOBILE': ['0'], 'HOME': ['1'], 'WORK': ['2']})], {'typespec': ['enum'], 'name': ['PhoneType'], 'values': [([(['MOBILE', '0'], {}), (['HOME', '1'], {}), (['WORK', '2'], {})], {'MOBILE': ['0'], 'HOME': ['1'], 'WORK': ['2']})]}), (['message', 'PhoneNumber', ([(['required', 'string', 'number', '1'], {'fieldQualifier': ['required'], 'typespec': ['string'], 'ident': ['number'], 'fieldint': ['1']}), (['optional', 'PhoneType', 'type', '2', (['default', 'HOME'], {})], {'fieldQualifier': ['optional'], 'typespec': ['PhoneType'], 'ident': ['type'], 'fieldint': ['2']})], {})], {'messageId': ['PhoneNumber'], 'body': [([(['required', 'string', 'number', '1'], {'fieldQualifier': ['required'], 'typespec': ['string'], 'ident': ['number'], 'fieldint': ['1']}), (['optional', 'PhoneType', 'type', '2', (['default', 'HOME'], {})], {'fieldQualifier': ['optional'], 'typespec': ['PhoneType'], 'ident': ['type'], 'fieldint': ['2']})], {})]}), (['repeated', 'PhoneNumber', 'phone', '4'], {'fieldQualifier': ['repeated'], 'typespec': ['PhoneNumber'], 'ident': ['phone'], 'fieldint': ['4']})], {})]}), (['message', 'AddressBook', ([(['repeated', 'Person', 'person', '1'], {'fieldQualifier': ['repeated'], 'typespec': ['Person'], 'ident': ['person'], 'fieldint': ['1']})], {})], {'messageId': ['AddressBook'], 'body': [([(['repeated', 'Person', 'person', '1'], {'fieldQualifier': ['repeated'], 'typespec': ['Person'], 'ident': ['person'], 'fieldint': ['1']})], {})]})], {}))])\n"
     ]
    }
   ],
   "source": [
    "pprint(out2)"
   ]
  },
  {
   "cell_type": "code",
   "execution_count": 33,
   "metadata": {},
   "outputs": [
    {
     "data": {
      "text/plain": [
       "(['message', 'Person', ([(['required', 'string', 'name', '1'], {'fieldQualifier': ['required'], 'typespec': ['string'], 'ident': ['name'], 'fieldint': ['1']}), (['required', 'int32', 'id', '2'], {'fieldQualifier': ['required'], 'typespec': ['int32'], 'ident': ['id'], 'fieldint': ['2']}), (['optional', 'string', 'email', '3'], {'fieldQualifier': ['optional'], 'typespec': ['string'], 'ident': ['email'], 'fieldint': ['3']}), (['enum', 'PhoneType', ([(['MOBILE', '0'], {}), (['HOME', '1'], {}), (['WORK', '2'], {})], {'MOBILE': ['0'], 'HOME': ['1'], 'WORK': ['2']})], {'typespec': ['enum'], 'name': ['PhoneType'], 'values': [([(['MOBILE', '0'], {}), (['HOME', '1'], {}), (['WORK', '2'], {})], {'MOBILE': ['0'], 'HOME': ['1'], 'WORK': ['2']})]}), (['message', 'PhoneNumber', ([(['required', 'string', 'number', '1'], {'fieldQualifier': ['required'], 'typespec': ['string'], 'ident': ['number'], 'fieldint': ['1']}), (['optional', 'PhoneType', 'type', '2', (['default', 'HOME'], {})], {'fieldQualifier': ['optional'], 'typespec': ['PhoneType'], 'ident': ['type'], 'fieldint': ['2']})], {})], {'messageId': ['PhoneNumber'], 'body': [([(['required', 'string', 'number', '1'], {'fieldQualifier': ['required'], 'typespec': ['string'], 'ident': ['number'], 'fieldint': ['1']}), (['optional', 'PhoneType', 'type', '2', (['default', 'HOME'], {})], {'fieldQualifier': ['optional'], 'typespec': ['PhoneType'], 'ident': ['type'], 'fieldint': ['2']})], {})]}), (['repeated', 'PhoneNumber', 'phone', '4'], {'fieldQualifier': ['repeated'], 'typespec': ['PhoneNumber'], 'ident': ['phone'], 'fieldint': ['4']})], {})], {'messageId': ['Person'], 'body': [([(['required', 'string', 'name', '1'], {'fieldQualifier': ['required'], 'typespec': ['string'], 'ident': ['name'], 'fieldint': ['1']}), (['required', 'int32', 'id', '2'], {'fieldQualifier': ['required'], 'typespec': ['int32'], 'ident': ['id'], 'fieldint': ['2']}), (['optional', 'string', 'email', '3'], {'fieldQualifier': ['optional'], 'typespec': ['string'], 'ident': ['email'], 'fieldint': ['3']}), (['enum', 'PhoneType', ([(['MOBILE', '0'], {}), (['HOME', '1'], {}), (['WORK', '2'], {})], {'MOBILE': ['0'], 'HOME': ['1'], 'WORK': ['2']})], {'typespec': ['enum'], 'name': ['PhoneType'], 'values': [([(['MOBILE', '0'], {}), (['HOME', '1'], {}), (['WORK', '2'], {})], {'MOBILE': ['0'], 'HOME': ['1'], 'WORK': ['2']})]}), (['message', 'PhoneNumber', ([(['required', 'string', 'number', '1'], {'fieldQualifier': ['required'], 'typespec': ['string'], 'ident': ['number'], 'fieldint': ['1']}), (['optional', 'PhoneType', 'type', '2', (['default', 'HOME'], {})], {'fieldQualifier': ['optional'], 'typespec': ['PhoneType'], 'ident': ['type'], 'fieldint': ['2']})], {})], {'messageId': ['PhoneNumber'], 'body': [([(['required', 'string', 'number', '1'], {'fieldQualifier': ['required'], 'typespec': ['string'], 'ident': ['number'], 'fieldint': ['1']}), (['optional', 'PhoneType', 'type', '2', (['default', 'HOME'], {})], {'fieldQualifier': ['optional'], 'typespec': ['PhoneType'], 'ident': ['type'], 'fieldint': ['2']})], {})]}), (['repeated', 'PhoneNumber', 'phone', '4'], {'fieldQualifier': ['repeated'], 'typespec': ['PhoneNumber'], 'ident': ['phone'], 'fieldint': ['4']})], {})]})"
      ]
     },
     "execution_count": 33,
     "metadata": {},
     "output_type": "execute_result"
    }
   ],
   "source": [
    "out2[1][0][1][1]"
   ]
  },
  {
   "cell_type": "code",
   "execution_count": null,
   "metadata": {},
   "outputs": [],
   "source": []
  },
  {
   "cell_type": "code",
   "execution_count": null,
   "metadata": {},
   "outputs": [],
   "source": []
  },
  {
   "cell_type": "code",
   "execution_count": 167,
   "metadata": {},
   "outputs": [],
   "source": [
    "test3 = \"\"\"// Copyright 2015 gRPC authors.\n",
    "//\n",
    "// Licensed under the Apache License, Version 2.0 (the \"License\");\n",
    "// you may not use this file except in compliance with the License.\n",
    "// You may obtain a copy of the License at\n",
    "//\n",
    "//     http://www.apache.org/licenses/LICENSE-2.0\n",
    "//\n",
    "// Unless required by applicable law or agreed to in writing, software\n",
    "// distributed under the License is distributed on an \"AS IS\" BASIS,\n",
    "// WITHOUT WARRANTIES OR CONDITIONS OF ANY KIND, either express or implied.\n",
    "// See the License for the specific language governing permissions and\n",
    "// limitations under the License.\n",
    "\n",
    "\n",
    "\n",
    "\n",
    "\n",
    "package helloworld;\n",
    "\n",
    "// The request message containing the user's name.\n",
    "message HelloRequest {\n",
    "  required string name = 1;\n",
    "}\n",
    "\n",
    "// The response message containing the greetings\n",
    "message HelloReply {\n",
    "  required string message = 1;\n",
    "  required int32 result = 2;\n",
    "}\"\"\""
   ]
  },
  {
   "cell_type": "code",
   "execution_count": 168,
   "metadata": {
    "scrolled": true
   },
   "outputs": [
    {
     "name": "stdout",
     "output_type": "stream",
     "text": [
      "\n",
      "// Copyright 2015 gRPC authors.\n",
      "//\n",
      "// Licensed under the Apache License, Version 2.0 (the \"License\");\n",
      "// you may not use this file except in compliance with the License.\n",
      "// You may obtain a copy of the License at\n",
      "//\n",
      "//     http://www.apache.org/licenses/LICENSE-2.0\n",
      "//\n",
      "// Unless required by applicable law or agreed to in writing, software\n",
      "// distributed under the License is distributed on an \"AS IS\" BASIS,\n",
      "// WITHOUT WARRANTIES OR CONDITIONS OF ANY KIND, either express or implied.\n",
      "// See the License for the specific language governing permissions and\n",
      "// limitations under the License.\n",
      "\n",
      "\n",
      "\n",
      "\n",
      "\n",
      "package helloworld;\n",
      "\n",
      "// The request message containing the user's name.\n",
      "message HelloRequest {\n",
      "  required string name = 1;\n",
      "}\n",
      "\n",
      "// The response message containing the greetings\n",
      "message HelloReply {\n",
      "  required string message = 1;\n",
      "  required int32 result = 2;\n",
      "}\n",
      "[['package', 'helloworld'], ['message', 'HelloRequest', [['required', 'string', 'name', '1']]], ['message', 'HelloReply', [['required', 'string', 'message', '1'], ['required', 'int32', 'result', '2']]]]\n",
      "[0]:\n",
      "  ['package', 'helloworld']\n",
      "[1]:\n",
      "  ['message', 'HelloRequest', [['required', 'string', 'name', '1']]]\n",
      "  - body: [['required', 'string', 'name', '1']]\n",
      "    [0]:\n",
      "      ['required', 'string', 'name', '1']\n",
      "      - fieldQualifier: 'required'\n",
      "      - fieldint: '1'\n",
      "      - ident: 'name'\n",
      "      - typespec: 'string'\n",
      "  - messageId: 'HelloRequest'\n",
      "[2]:\n",
      "  ['message', 'HelloReply', [['required', 'string', 'message', '1'], ['required', 'int32', 'result', '2']]]\n",
      "  - body: [['required', 'string', 'message', '1'], ['required', 'int32', 'result', '2']]\n",
      "    [0]:\n",
      "      ['required', 'string', 'message', '1']\n",
      "      - fieldQualifier: 'required'\n",
      "      - fieldint: '1'\n",
      "      - ident: 'message'\n",
      "      - typespec: 'string'\n",
      "    [1]:\n",
      "      ['required', 'int32', 'result', '2']\n",
      "      - fieldQualifier: 'required'\n",
      "      - fieldint: '2'\n",
      "      - ident: 'result'\n",
      "      - typespec: 'int32'\n",
      "  - messageId: 'HelloReply'\n"
     ]
    }
   ],
   "source": [
    "out3 = parser.runTests([test3])"
   ]
  },
  {
   "cell_type": "code",
   "execution_count": 194,
   "metadata": {},
   "outputs": [
    {
     "data": {
      "text/plain": [
       "'name'"
      ]
     },
     "execution_count": 194,
     "metadata": {},
     "output_type": "execute_result"
    }
   ],
   "source": [
    "out3[1][0][1][1][2][0][\"ident\"]"
   ]
  },
  {
   "cell_type": "code",
   "execution_count": null,
   "metadata": {},
   "outputs": [],
   "source": []
  },
  {
   "cell_type": "code",
   "execution_count": null,
   "metadata": {},
   "outputs": [],
   "source": []
  },
  {
   "cell_type": "code",
   "execution_count": null,
   "metadata": {},
   "outputs": [],
   "source": []
  },
  {
   "cell_type": "code",
   "execution_count": null,
   "metadata": {},
   "outputs": [],
   "source": []
  },
  {
   "cell_type": "code",
   "execution_count": null,
   "metadata": {},
   "outputs": [],
   "source": []
  },
  {
   "cell_type": "code",
   "execution_count": null,
   "metadata": {},
   "outputs": [],
   "source": []
  },
  {
   "cell_type": "code",
   "execution_count": 37,
   "metadata": {},
   "outputs": [],
   "source": [
    "import helloworld_pb2 as h"
   ]
  },
  {
   "cell_type": "code",
   "execution_count": 80,
   "metadata": {},
   "outputs": [
    {
     "data": {
      "text/plain": [
       "['HelloRequest', 'HelloReply']"
      ]
     },
     "execution_count": 80,
     "metadata": {},
     "output_type": "execute_result"
    }
   ],
   "source": [
    "h.DESCRIPTOR.message_types_by_name.keys()"
   ]
  },
  {
   "cell_type": "code",
   "execution_count": 59,
   "metadata": {},
   "outputs": [
    {
     "data": {
      "text/plain": [
       "['Greeter']"
      ]
     },
     "execution_count": 59,
     "metadata": {},
     "output_type": "execute_result"
    }
   ],
   "source": [
    "h.DESCRIPTOR.services_by_name.keys()"
   ]
  },
  {
   "cell_type": "code",
   "execution_count": 71,
   "metadata": {},
   "outputs": [],
   "source": [
    "import helloworld_pb2_grpc as hg"
   ]
  },
  {
   "cell_type": "code",
   "execution_count": 74,
   "metadata": {},
   "outputs": [
    {
     "data": {
      "text/plain": [
       "['SayHello',\n",
       " 'SayHelloAgain',\n",
       " '__class__',\n",
       " '__delattr__',\n",
       " '__dict__',\n",
       " '__dir__',\n",
       " '__doc__',\n",
       " '__eq__',\n",
       " '__format__',\n",
       " '__ge__',\n",
       " '__getattribute__',\n",
       " '__gt__',\n",
       " '__hash__',\n",
       " '__init__',\n",
       " '__init_subclass__',\n",
       " '__le__',\n",
       " '__lt__',\n",
       " '__module__',\n",
       " '__ne__',\n",
       " '__new__',\n",
       " '__reduce__',\n",
       " '__reduce_ex__',\n",
       " '__repr__',\n",
       " '__setattr__',\n",
       " '__sizeof__',\n",
       " '__str__',\n",
       " '__subclasshook__',\n",
       " '__weakref__']"
      ]
     },
     "execution_count": 74,
     "metadata": {},
     "output_type": "execute_result"
    }
   ],
   "source": [
    "dir(hg.Greeter)"
   ]
  },
  {
   "cell_type": "code",
   "execution_count": null,
   "metadata": {},
   "outputs": [],
   "source": []
  },
  {
   "cell_type": "code",
   "execution_count": 81,
   "metadata": {},
   "outputs": [
    {
     "data": {
      "text/plain": [
       "['ByteSize',\n",
       " 'Clear',\n",
       " 'ClearExtension',\n",
       " 'ClearField',\n",
       " 'CopyFrom',\n",
       " 'DESCRIPTOR',\n",
       " 'DiscardUnknownFields',\n",
       " 'Extensions',\n",
       " 'FindInitializationErrors',\n",
       " 'FromString',\n",
       " 'HasExtension',\n",
       " 'HasField',\n",
       " 'IsInitialized',\n",
       " 'ListFields',\n",
       " 'MergeFrom',\n",
       " 'MergeFromString',\n",
       " 'ParseFromString',\n",
       " 'RegisterExtension',\n",
       " 'SerializePartialToString',\n",
       " 'SerializeToString',\n",
       " 'SetInParent',\n",
       " 'UnknownFields',\n",
       " 'WhichOneof',\n",
       " '_CheckCalledFromGeneratedFile',\n",
       " '_SetListener',\n",
       " '__class__',\n",
       " '__deepcopy__',\n",
       " '__delattr__',\n",
       " '__dir__',\n",
       " '__doc__',\n",
       " '__eq__',\n",
       " '__format__',\n",
       " '__ge__',\n",
       " '__getattribute__',\n",
       " '__getstate__',\n",
       " '__gt__',\n",
       " '__hash__',\n",
       " '__init__',\n",
       " '__init_subclass__',\n",
       " '__le__',\n",
       " '__lt__',\n",
       " '__module__',\n",
       " '__ne__',\n",
       " '__new__',\n",
       " '__reduce__',\n",
       " '__reduce_ex__',\n",
       " '__repr__',\n",
       " '__setattr__',\n",
       " '__setstate__',\n",
       " '__sizeof__',\n",
       " '__slots__',\n",
       " '__str__',\n",
       " '__subclasshook__',\n",
       " '__unicode__',\n",
       " '_extensions_by_name',\n",
       " '_extensions_by_number',\n",
       " 'name']"
      ]
     },
     "execution_count": 81,
     "metadata": {},
     "output_type": "execute_result"
    }
   ],
   "source": [
    "dir(h.HelloRequest)"
   ]
  },
  {
   "cell_type": "code",
   "execution_count": null,
   "metadata": {},
   "outputs": [],
   "source": []
  },
  {
   "cell_type": "code",
   "execution_count": null,
   "metadata": {},
   "outputs": [],
   "source": []
  },
  {
   "cell_type": "code",
   "execution_count": 46,
   "metadata": {},
   "outputs": [
    {
     "data": {
      "text/plain": [
       "['CopyToProto',\n",
       " 'GetOptions',\n",
       " '__class__',\n",
       " '__delattr__',\n",
       " '__dir__',\n",
       " '__doc__',\n",
       " '__eq__',\n",
       " '__format__',\n",
       " '__ge__',\n",
       " '__getattribute__',\n",
       " '__gt__',\n",
       " '__hash__',\n",
       " '__init__',\n",
       " '__init_subclass__',\n",
       " '__le__',\n",
       " '__lt__',\n",
       " '__ne__',\n",
       " '__new__',\n",
       " '__reduce__',\n",
       " '__reduce_ex__',\n",
       " '__repr__',\n",
       " '__setattr__',\n",
       " '__sizeof__',\n",
       " '__str__',\n",
       " '__subclasshook__',\n",
       " '_options',\n",
       " '_serialized_options',\n",
       " 'dependencies',\n",
       " 'enum_types_by_name',\n",
       " 'extensions_by_name',\n",
       " 'has_options',\n",
       " 'message_types_by_name',\n",
       " 'name',\n",
       " 'package',\n",
       " 'pool',\n",
       " 'public_dependencies',\n",
       " 'serialized_pb',\n",
       " 'services_by_name',\n",
       " 'syntax']"
      ]
     },
     "execution_count": 46,
     "metadata": {},
     "output_type": "execute_result"
    }
   ],
   "source": [
    "dir(h.DESCRIPTOR)"
   ]
  },
  {
   "cell_type": "code",
   "execution_count": 51,
   "metadata": {},
   "outputs": [
    {
     "ename": "TypeError",
     "evalue": "vars() argument must have __dict__ attribute",
     "output_type": "error",
     "traceback": [
      "\u001b[0;31m---------------------------------------------------------------------------\u001b[0m",
      "\u001b[0;31mTypeError\u001b[0m                                 Traceback (most recent call last)",
      "\u001b[0;32m<ipython-input-51-9def19b7cf87>\u001b[0m in \u001b[0;36m<module>\u001b[0;34m\u001b[0m\n\u001b[1;32m      1\u001b[0m \u001b[0;32mfrom\u001b[0m \u001b[0mpprint\u001b[0m \u001b[0;32mimport\u001b[0m \u001b[0mpprint\u001b[0m\u001b[0;34m\u001b[0m\u001b[0;34m\u001b[0m\u001b[0m\n\u001b[0;32m----> 2\u001b[0;31m \u001b[0mpprint\u001b[0m\u001b[0;34m(\u001b[0m\u001b[0mvars\u001b[0m\u001b[0;34m(\u001b[0m\u001b[0mh\u001b[0m\u001b[0;34m.\u001b[0m\u001b[0mDESCRIPTOR\u001b[0m\u001b[0;34m)\u001b[0m\u001b[0;34m)\u001b[0m\u001b[0;34m\u001b[0m\u001b[0;34m\u001b[0m\u001b[0m\n\u001b[0m",
      "\u001b[0;31mTypeError\u001b[0m: vars() argument must have __dict__ attribute"
     ]
    }
   ],
   "source": [
    "from pprint import pprint\n",
    "pprint(vars(h.DESCRIPTOR))"
   ]
  },
  {
   "cell_type": "code",
   "execution_count": null,
   "metadata": {},
   "outputs": [],
   "source": []
  },
  {
   "cell_type": "code",
   "execution_count": 143,
   "metadata": {},
   "outputs": [
    {
     "name": "stdout",
     "output_type": "stream",
     "text": [
      "1\n",
      "2\n",
      "1\n",
      "2\n",
      "1\n",
      "0\n",
      "service Greeter {\n",
      "  // Sends a greeting\n",
      "  rpc SayHello (HelloRequest) returns (HelloReply) {}\n",
      "  rpc SayHelloAgain (HelloRequest) returns (HelloReply) {}\n",
      "}\n"
     ]
    }
   ],
   "source": [
    "import re\n",
    "\n",
    "with open(f\"/home/tushar/file/grpc/test_script/helloworld.proto\", 'r') as r:\n",
    "        file_text = r.read()\n",
    "        text = re.findall('service .*? \\{.*\\}', file_text, re.S)[0]\n",
    "        count = None\n",
    "        newtext = ''\n",
    "        for i, char in enumerate(text):\n",
    "            def checkCount(count):\n",
    "                if count == None:\n",
    "                    count = 0\n",
    "                return count\n",
    "                \n",
    "            if char == '{':\n",
    "                count = checkCount(count)\n",
    "                count = count + 1\n",
    "                print(count)\n",
    "            elif char == '}':\n",
    "                count = checkCount(count)\n",
    "                count = count - 1\n",
    "                print(count)\n",
    "            if count == 0:\n",
    "                newtext = text[:i+1]\n",
    "                break\n",
    "        print(newtext)"
   ]
  },
  {
   "cell_type": "code",
   "execution_count": 219,
   "metadata": {},
   "outputs": [
    {
     "name": "stdout",
     "output_type": "stream",
     "text": [
      "['rpc SayHello (HelloRequest) returns (HelloReply) {}', 'rpc SayHelloAgain (HelloRequest) returns (HelloReply) {}']\n",
      "['rpc', 'SayHello', '(HelloRequest)', 'returns', '(HelloReply)', '{}']\n",
      "['rpc', 'SayHelloAgain', '(HelloRequest)', 'returns', '(HelloReply)', '{}']\n"
     ]
    }
   ],
   "source": [
    "import re\n",
    "\n",
    "with open(f\"/home/tushar/file/grpc/test_script/helloworld.proto\", 'r') as r:\n",
    "    rpc_dict = {\n",
    "        \"request\" : {\n",
    "            \"stream\": False,\n",
    "            \"func\": \"\",\n",
    "            \"message_name\": \"\",\n",
    "            \"message_param\": {}\n",
    "        },\n",
    "        \"response\": {\n",
    "            \"stream\": False,\n",
    "            \"func\": \"\",\n",
    "            \"message_name\": \"\",\n",
    "            \"message_param\": {}\n",
    "        }\n",
    "    }\n",
    "    file_text = r.read()\n",
    "    text = re.findall('rpc .*?\\{.*?\\}?', file_text, re.S)\n",
    "    print(text)\n",
    "    for sentence in text:\n",
    "        \n",
    "        print(sentence.split(' '))"
   ]
  },
  {
   "cell_type": "code",
   "execution_count": 241,
   "metadata": {},
   "outputs": [
    {
     "name": "stdout",
     "output_type": "stream",
     "text": [
      "{'func': 'SayHelloAgain', 'stream_req': False, 'req_message_name': '(HelloRequest)', 'req_message_param': [], 'stream_res': False, 'res_message_name': '(HelloReply)', 'res_message_param': []}\n"
     ]
    }
   ],
   "source": [
    "import re\n",
    "\n",
    "with open(f\"/home/tushar/file/grpc/test_script/helloworld.proto\", 'r') as r:\n",
    "    rpc_dict = {\n",
    "        \"func\": \"\",\n",
    "        \"stream_req\": False,\n",
    "        \"req_message_name\": \"\",\n",
    "        \"req_message_param\": [],\n",
    "        \"stream_res\": False,\n",
    "        \"res_message_name\": \"\",\n",
    "        \"res_message_param\": []\n",
    "    }\n",
    "    file_text = r.read()\n",
    "    without_comments_text = re.sub(r'//.*\\n', '', file_text)\n",
    "    rpc_text = re.findall('rpc .*?\\{.*?\\}?', file_text, re.S)\n",
    "    \n",
    "    for sentence in rpc_text:\n",
    "        sentence = sentence.split(\" \")\n",
    "        rpc_dict[\"func\"] = sentence[1]\n",
    "        rpc_dict[\"req_message_name\"] = sentence[2]\n",
    "        rpc_dict[\"res_message_name\"] = sentence[4]\n",
    "    \n",
    "    message_text = re.findall('message .*?\\{.*?\\}', without_comments_text, re.S)\n",
    "    for sentence in message_text:\n",
    "        message_text = sentence.replace(\"\\n\", '').split(\"{\")\n",
    "        messageBody = re.findall('\\S+', message_text[0].strip())[-1]\n",
    "        message_text = re.findall('\\S+', message_text[1].strip())\n",
    "        for i in range(len(message_text)):\n",
    "            if rpc_dict.get(\"req_message_name\") == message_text[1]:\n",
    "                if message_text[i] == \"=\":\n",
    "                    rpc_dict[\"req_message_param\"].append(message_text[i-1])\n",
    "            elif rpc_dict.get(\"res_message_name\") == message_text[1]:\n",
    "                if message_text[i] == \"=\":\n",
    "                    rpc_dict[\"res_message_param\"].append(message_text[i-1])\n",
    "            else:\n",
    "                pass\n",
    "print(rpc_dict)        "
   ]
  },
  {
   "cell_type": "code",
   "execution_count": null,
   "metadata": {},
   "outputs": [],
   "source": []
  },
  {
   "cell_type": "code",
   "execution_count": 117,
   "metadata": {},
   "outputs": [],
   "source": [
    "\n",
    "def check(my_string): \n",
    "    brackets = ['()', '{}', '[]']\n",
    "    while any(x in my_string for x in brackets): \n",
    "        for br in brackets: \n",
    "            my_string = my_string.replace(br, '') \n",
    "    return not my_string"
   ]
  },
  {
   "cell_type": "code",
   "execution_count": 122,
   "metadata": {},
   "outputs": [
    {
     "name": "stdout",
     "output_type": "stream",
     "text": [
      "{(} - Unbalanced\n"
     ]
    }
   ],
   "source": [
    "string = \"{(}\"\n",
    "print(string, \"-\", \"Balanced\" \n",
    "if check(string) else \"Unbalanced\") "
   ]
  },
  {
   "cell_type": "code",
   "execution_count": null,
   "metadata": {},
   "outputs": [],
   "source": []
  }
 ],
 "metadata": {
  "kernelspec": {
   "display_name": "Python 3",
   "language": "python",
   "name": "python3"
  },
  "language_info": {
   "codemirror_mode": {
    "name": "ipython",
    "version": 3
   },
   "file_extension": ".py",
   "mimetype": "text/x-python",
   "name": "python",
   "nbconvert_exporter": "python",
   "pygments_lexer": "ipython3",
   "version": "3.8.2"
  }
 },
 "nbformat": 4,
 "nbformat_minor": 4
}
